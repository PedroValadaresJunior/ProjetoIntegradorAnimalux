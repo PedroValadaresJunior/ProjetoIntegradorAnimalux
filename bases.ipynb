{
 "cells": [
  {
   "cell_type": "code",
   "execution_count": 4,
   "id": "867ea862",
   "metadata": {},
   "outputs": [
    {
     "name": "stdout",
     "output_type": "stream",
     "text": [
      "Requirement already satisfied: faker in /home/pedrovaladares/anaconda3/lib/python3.12/site-packages (37.3.0)\n",
      "Requirement already satisfied: tzdata in /home/pedrovaladares/anaconda3/lib/python3.12/site-packages (from faker) (2023.3)\n",
      "Note: you may need to restart the kernel to use updated packages.\n"
     ]
    }
   ],
   "source": [
    "%pip install faker"
   ]
  },
  {
   "cell_type": "code",
   "execution_count": null,
   "id": "aee4292f",
   "metadata": {},
   "outputs": [],
   "source": [
    "import pandas as pd\n",
    "import numpy as np\n",
    "from faker import Faker\n",
    "from datetime import datetime, timedelta"
   ]
  },
  {
   "cell_type": "code",
   "execution_count": 6,
   "id": "aa8b45ba",
   "metadata": {},
   "outputs": [],
   "source": [
    "# Entrada para o número de usuários\n",
    "num_usuarios = 500"
   ]
  },
  {
   "cell_type": "code",
   "execution_count": 7,
   "id": "f44152d4",
   "metadata": {},
   "outputs": [],
   "source": [
    "# Definindo semente de replicabilidade\n",
    "fake = Faker('pt_BR')\n",
    "np.random.seed(42)"
   ]
  },
  {
   "cell_type": "code",
   "execution_count": 8,
   "id": "93c32ce5",
   "metadata": {},
   "outputs": [],
   "source": [
    "# BASE DE USUARIOS\n",
    "\n",
    "usuarios = []\n",
    "\n",
    "for i in range(num_usuarios):\n",
    "\n",
    "    idade = np.random.randint(18, 60)\n",
    "    qtd_pets = np.random.choice([1, 2, 3], p = [0.6, 0.3, 0.1])\n",
    "\n",
    "    # Localização simulada\n",
    "    latitude = round(-33 + np.random.rand() * 10, 6)\n",
    "    longitude = round(-60 + np.random.rand() * 10, 6)\n",
    "\n",
    "    usuarios.append({\n",
    "\n",
    "        \"user_id\": i,\n",
    "        \"nome\": fake.first_name(),\n",
    "        \"idade\": idade,\n",
    "        \"cidade\": fake.city(),\n",
    "        \"estado\": fake.estado_sigla(),\n",
    "        \"tipo_residencia\": np.random.choice([\"Casa\", \"Apartamento\", \"Sítio\"], p = [0.55, 0.42, 0.03]),\n",
    "        \"qtd_animais\": qtd_pets,\n",
    "        \"comportamento_dono\": np.random.choice([\"ativo\", \"neutro\", \"ausente\"], p = [0.6, 0.3, 0.1]),\n",
    "        \"latitude\": latitude,\n",
    "        \"longitude\": longitude\n",
    "\n",
    "    })\n",
    "\n",
    "df_base_usuarios = pd.DataFrame(usuarios)"
   ]
  },
  {
   "cell_type": "code",
   "execution_count": null,
   "id": "93956cc8",
   "metadata": {},
   "outputs": [],
   "source": [
    "# BASE DE PETS\n",
    "np.random.seed(42)\n",
    "\n",
    "# Gerando raças fictícias mais populares\n",
    "racas_caes = [\"Labrador\", \"Poodle\", \"Bulldog\", \"SRD\", \"Chihuahua\"]\n",
    "racas_gatos = [\"Siamês\", \"Persa\", \"Vira-lata\", \"Maine Coon\", \"Sphynx\"]\n",
    "perfis = [\"afetivo\", \"protetor\", \"brincalhão\", \"independente\", \"medroso\"]\n",
    "sociabilidades = [\"Alta\", \"Média\", \"Baixa\"]\n",
    "portes = [\"Pequeno\", \"Médio\", \"Grande\"]\n",
    "\n",
    "pet_id = 0\n",
    "pets = []\n",
    "\n",
    "for _, row in df_base_usuarios.iterrows():\n",
    "\n",
    "    for _ in range(row[\"qtd_animais\"]):\n",
    "\n",
    "        especie = np.random.choice([\"Cachorro\", \"Gato\"], p = [0.65, 0.35])\n",
    "        \n",
    "        if especie == \"Cachorro\":\n",
    "            raca = np.random.choice(racas_caes)\n",
    "            porte = np.random.choice(portes)\n",
    "        \n",
    "        else:\n",
    "            raca = np.random.choice(racas_gatos)\n",
    "            porte = np.random.choice(portes)\n",
    "\n",
    "        pets.append({\n",
    "            \"pet_id\": pet_id,\n",
    "            \"user_id\": row[\"user_id\"],\n",
    "            \"nome_pet\": fake.first_name(),\n",
    "            \"especie\": especie,\n",
    "            \"raca\": raca,\n",
    "            \"idade_pet\": np.random.randint(0, 15),\n",
    "            \"castrado\": np.random.choice([True, False], p = [0.7, 0.3]),\n",
    "            \"sociavel\": np.random.choice(sociabilidades, p = [0.5, 0.35, 0.15]),\n",
    "            \"porte\": porte,\n",
    "            \"perfil_pet\": np.random.choice(perfis)\n",
    "        })\n",
    "\n",
    "        pet_id += 1\n",
    "\n",
    "df_pets = pd.DataFrame(pets)"
   ]
  },
  {
   "cell_type": "code",
   "execution_count": 12,
   "id": "041f199a",
   "metadata": {},
   "outputs": [],
   "source": [
    "# BASE DE COMPORTAMENTOS DO APP\n",
    "\n",
    "# num_usuarios = 100\n",
    "user_ids = list(range(1, num_usuarios + 1))\n",
    "\n",
    "# Gerando dados de comportamentos no app\n",
    "np.random.seed(42)\n",
    "comportamentos_app = []\n",
    "\n",
    "for user_id in user_ids:\n",
    "\n",
    "    for _ in range(np.random.randint(1, 5)):\n",
    "\n",
    "        data_acesso = datetime(2025, 5, 25) - timedelta(days = np.random.randint(0, 30))\n",
    "        curtidas = np.random.poisson(10)\n",
    "        rejeicoes = np.random.poisson(5)\n",
    "        tempo_ativo_min = np.random.randint(2, 30)\n",
    "        visitas_na_semana = np.random.randint(1, 10)\n",
    "        \n",
    "        comportamentos_app.append({\n",
    "            \"user_id\": user_id,\n",
    "            \"data_acesso\": data_acesso,\n",
    "            \"curtidas\": curtidas,\n",
    "            \"rejeicoes\": rejeicoes,\n",
    "            \"tempo_ativo_min\": tempo_ativo_min,\n",
    "            \"visitas_na_semana\": visitas_na_semana\n",
    "        })\n",
    "\n",
    "df_comportamentos_app = pd.DataFrame(comportamentos_app)"
   ]
  },
  {
   "cell_type": "code",
   "execution_count": null,
   "id": "305fb5c1",
   "metadata": {},
   "outputs": [],
   "source": [
    "# COMPRAS_PETSHOP\n",
    "\n",
    "# num_usuarios = 100\n",
    "user_ids = list(range(1, num_usuarios + 1))\n",
    "\n",
    "# Gerar dados de compras no petshop\n",
    "np.random.seed(42)\n",
    "tipos_produto = [\"ração\", \"brinquedo\", \"acessório\", \"remédio\", \"roupa\", \"petisco\"]\n",
    "compras_petshop = []\n",
    "\n",
    "for user_id in user_ids:\n",
    "    for _ in range(np.random.randint(1, 6)):\n",
    "        data_compra = datetime(2025, 5, 28) - timedelta(days = np.random.randint(0, 90))\n",
    "        tipo_produto = np.random.choice(tipos_produto)\n",
    "        valor = round(np.random.uniform(20, 200), 2)\n",
    "        compras_petshop.append({\n",
    "            \"user_id\": user_id,\n",
    "            \"data_compra\": data_compra.date(),\n",
    "            \"tipo_produto\": tipo_produto,\n",
    "            \"valor\": valor\n",
    "        })\n",
    "\n",
    "df_compras_petshop = pd.DataFrame(compras_petshop)"
   ]
  }
 ],
 "metadata": {
  "kernelspec": {
   "display_name": "base",
   "language": "python",
   "name": "python3"
  },
  "language_info": {
   "codemirror_mode": {
    "name": "ipython",
    "version": 3
   },
   "file_extension": ".py",
   "mimetype": "text/x-python",
   "name": "python",
   "nbconvert_exporter": "python",
   "pygments_lexer": "ipython3",
   "version": "3.12.4"
  }
 },
 "nbformat": 4,
 "nbformat_minor": 5
}
